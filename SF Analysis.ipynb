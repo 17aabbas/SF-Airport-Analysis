{
 "cells": [
  {
   "cell_type": "markdown",
   "metadata": {},
   "source": [
    "# Exploratory Data Analysis"
   ]
  },
  {
   "cell_type": "markdown",
   "metadata": {},
   "source": [
    "#### Import Libraries"
   ]
  },
  {
   "cell_type": "code",
   "execution_count": 1,
   "metadata": {},
   "outputs": [],
   "source": [
    "# For simplicity, I start by importing libraries I will be using at the beginning, data viz libraries will be imported later\n",
    "\n",
    "import pandas as pd\n",
    "import numpy as np"
   ]
  },
  {
   "cell_type": "markdown",
   "metadata": {},
   "source": [
    "#### We will load the data set"
   ]
  },
  {
   "cell_type": "code",
   "execution_count": 2,
   "metadata": {},
   "outputs": [],
   "source": [
    "# This code is storing our file path in the Data variable. If we want to create more variables and start with a fresh data set\n",
    "# we can do so by created a new variable and using the same code\n",
    "# We will be manipulatng 'data' so everytime we call that variable, it will store all of our changes\n",
    "\n",
    "filepath = 'Air_Traffic_Passenger_Statistics_20240724.csv'\n",
    "data = pd.read_csv(filepath)"
   ]
  },
  {
   "cell_type": "markdown",
   "metadata": {},
   "source": [
    "#### View the head to see what our data looks like"
   ]
  },
  {
   "cell_type": "code",
   "execution_count": 3,
   "metadata": {},
   "outputs": [
    {
     "data": {
      "text/html": [
       "<div>\n",
       "<style scoped>\n",
       "    .dataframe tbody tr th:only-of-type {\n",
       "        vertical-align: middle;\n",
       "    }\n",
       "\n",
       "    .dataframe tbody tr th {\n",
       "        vertical-align: top;\n",
       "    }\n",
       "\n",
       "    .dataframe thead th {\n",
       "        text-align: right;\n",
       "    }\n",
       "</style>\n",
       "<table border=\"1\" class=\"dataframe\">\n",
       "  <thead>\n",
       "    <tr style=\"text-align: right;\">\n",
       "      <th></th>\n",
       "      <th>Activity Period</th>\n",
       "      <th>Activity Period Start Date</th>\n",
       "      <th>Operating Airline</th>\n",
       "      <th>Operating Airline IATA Code</th>\n",
       "      <th>Published Airline</th>\n",
       "      <th>Published Airline IATA Code</th>\n",
       "      <th>GEO Summary</th>\n",
       "      <th>GEO Region</th>\n",
       "      <th>Activity Type Code</th>\n",
       "      <th>Price Category Code</th>\n",
       "      <th>Terminal</th>\n",
       "      <th>Boarding Area</th>\n",
       "      <th>Passenger Count</th>\n",
       "      <th>data_as_of</th>\n",
       "      <th>data_loaded_at</th>\n",
       "    </tr>\n",
       "  </thead>\n",
       "  <tbody>\n",
       "    <tr>\n",
       "      <th>0</th>\n",
       "      <td>199907</td>\n",
       "      <td>1999/07/01</td>\n",
       "      <td>ATA Airlines</td>\n",
       "      <td>TZ</td>\n",
       "      <td>ATA Airlines</td>\n",
       "      <td>TZ</td>\n",
       "      <td>Domestic</td>\n",
       "      <td>US</td>\n",
       "      <td>Deplaned</td>\n",
       "      <td>Low Fare</td>\n",
       "      <td>Terminal 1</td>\n",
       "      <td>B</td>\n",
       "      <td>31432</td>\n",
       "      <td>2024/06/20 01:00:26 PM</td>\n",
       "      <td>2024/07/22 03:01:47 PM</td>\n",
       "    </tr>\n",
       "    <tr>\n",
       "      <th>1</th>\n",
       "      <td>199907</td>\n",
       "      <td>1999/07/01</td>\n",
       "      <td>ATA Airlines</td>\n",
       "      <td>TZ</td>\n",
       "      <td>ATA Airlines</td>\n",
       "      <td>TZ</td>\n",
       "      <td>Domestic</td>\n",
       "      <td>US</td>\n",
       "      <td>Enplaned</td>\n",
       "      <td>Low Fare</td>\n",
       "      <td>Terminal 1</td>\n",
       "      <td>B</td>\n",
       "      <td>31353</td>\n",
       "      <td>2024/06/20 01:00:26 PM</td>\n",
       "      <td>2024/07/22 03:01:47 PM</td>\n",
       "    </tr>\n",
       "    <tr>\n",
       "      <th>2</th>\n",
       "      <td>199907</td>\n",
       "      <td>1999/07/01</td>\n",
       "      <td>ATA Airlines</td>\n",
       "      <td>TZ</td>\n",
       "      <td>ATA Airlines</td>\n",
       "      <td>TZ</td>\n",
       "      <td>Domestic</td>\n",
       "      <td>US</td>\n",
       "      <td>Thru / Transit</td>\n",
       "      <td>Low Fare</td>\n",
       "      <td>Terminal 1</td>\n",
       "      <td>B</td>\n",
       "      <td>2518</td>\n",
       "      <td>2024/06/20 01:00:26 PM</td>\n",
       "      <td>2024/07/22 03:01:47 PM</td>\n",
       "    </tr>\n",
       "    <tr>\n",
       "      <th>3</th>\n",
       "      <td>199907</td>\n",
       "      <td>1999/07/01</td>\n",
       "      <td>Aeroflot Russian International Airlines</td>\n",
       "      <td>NaN</td>\n",
       "      <td>Aeroflot Russian International Airlines</td>\n",
       "      <td>NaN</td>\n",
       "      <td>International</td>\n",
       "      <td>Europe</td>\n",
       "      <td>Deplaned</td>\n",
       "      <td>Other</td>\n",
       "      <td>Terminal 2</td>\n",
       "      <td>D</td>\n",
       "      <td>1324</td>\n",
       "      <td>2024/06/20 01:00:26 PM</td>\n",
       "      <td>2024/07/22 03:01:47 PM</td>\n",
       "    </tr>\n",
       "    <tr>\n",
       "      <th>4</th>\n",
       "      <td>199907</td>\n",
       "      <td>1999/07/01</td>\n",
       "      <td>Aeroflot Russian International Airlines</td>\n",
       "      <td>NaN</td>\n",
       "      <td>Aeroflot Russian International Airlines</td>\n",
       "      <td>NaN</td>\n",
       "      <td>International</td>\n",
       "      <td>Europe</td>\n",
       "      <td>Enplaned</td>\n",
       "      <td>Other</td>\n",
       "      <td>Terminal 2</td>\n",
       "      <td>D</td>\n",
       "      <td>1198</td>\n",
       "      <td>2024/06/20 01:00:26 PM</td>\n",
       "      <td>2024/07/22 03:01:47 PM</td>\n",
       "    </tr>\n",
       "  </tbody>\n",
       "</table>\n",
       "</div>"
      ],
      "text/plain": [
       "   Activity Period Activity Period Start Date  \\\n",
       "0           199907                 1999/07/01   \n",
       "1           199907                 1999/07/01   \n",
       "2           199907                 1999/07/01   \n",
       "3           199907                 1999/07/01   \n",
       "4           199907                 1999/07/01   \n",
       "\n",
       "                         Operating Airline Operating Airline IATA Code  \\\n",
       "0                             ATA Airlines                          TZ   \n",
       "1                             ATA Airlines                          TZ   \n",
       "2                             ATA Airlines                          TZ   \n",
       "3  Aeroflot Russian International Airlines                         NaN   \n",
       "4  Aeroflot Russian International Airlines                         NaN   \n",
       "\n",
       "                         Published Airline Published Airline IATA Code  \\\n",
       "0                             ATA Airlines                          TZ   \n",
       "1                             ATA Airlines                          TZ   \n",
       "2                             ATA Airlines                          TZ   \n",
       "3  Aeroflot Russian International Airlines                         NaN   \n",
       "4  Aeroflot Russian International Airlines                         NaN   \n",
       "\n",
       "     GEO Summary GEO Region Activity Type Code Price Category Code  \\\n",
       "0       Domestic         US           Deplaned            Low Fare   \n",
       "1       Domestic         US           Enplaned            Low Fare   \n",
       "2       Domestic         US     Thru / Transit            Low Fare   \n",
       "3  International     Europe           Deplaned               Other   \n",
       "4  International     Europe           Enplaned               Other   \n",
       "\n",
       "     Terminal Boarding Area  Passenger Count              data_as_of  \\\n",
       "0  Terminal 1             B            31432  2024/06/20 01:00:26 PM   \n",
       "1  Terminal 1             B            31353  2024/06/20 01:00:26 PM   \n",
       "2  Terminal 1             B             2518  2024/06/20 01:00:26 PM   \n",
       "3  Terminal 2             D             1324  2024/06/20 01:00:26 PM   \n",
       "4  Terminal 2             D             1198  2024/06/20 01:00:26 PM   \n",
       "\n",
       "           data_loaded_at  \n",
       "0  2024/07/22 03:01:47 PM  \n",
       "1  2024/07/22 03:01:47 PM  \n",
       "2  2024/07/22 03:01:47 PM  \n",
       "3  2024/07/22 03:01:47 PM  \n",
       "4  2024/07/22 03:01:47 PM  "
      ]
     },
     "execution_count": 3,
     "metadata": {},
     "output_type": "execute_result"
    }
   ],
   "source": [
    "data.head()"
   ]
  },
  {
   "cell_type": "markdown",
   "metadata": {},
   "source": [
    "#### Right away we can see some null values in our dataset.\n",
    "#### These will be fixed by manipulating the dataset via python.\n",
    "#### This can be cleaned via excel to begin with, but for our purposes, I will do it all on python."
   ]
  },
  {
   "cell_type": "markdown",
   "metadata": {},
   "source": [
    "## Data Cleaning"
   ]
  },
  {
   "cell_type": "markdown",
   "metadata": {},
   "source": [
    "#### We will start with viewing null values, the statistics, and the object type."
   ]
  },
  {
   "cell_type": "code",
   "execution_count": 4,
   "metadata": {},
   "outputs": [
    {
     "data": {
      "text/plain": [
       "Activity Period                  0\n",
       "Activity Period Start Date       0\n",
       "Operating Airline                0\n",
       "Operating Airline IATA Code    316\n",
       "Published Airline                0\n",
       "Published Airline IATA Code    316\n",
       "GEO Summary                      0\n",
       "GEO Region                       0\n",
       "Activity Type Code               0\n",
       "Price Category Code              0\n",
       "Terminal                         0\n",
       "Boarding Area                    0\n",
       "Passenger Count                  0\n",
       "data_as_of                       0\n",
       "data_loaded_at                   0\n",
       "dtype: int64"
      ]
     },
     "execution_count": 4,
     "metadata": {},
     "output_type": "execute_result"
    }
   ],
   "source": [
    "data.isnull().sum()"
   ]
  },
  {
   "cell_type": "code",
   "execution_count": 5,
   "metadata": {},
   "outputs": [
    {
     "data": {
      "text/html": [
       "<div>\n",
       "<style scoped>\n",
       "    .dataframe tbody tr th:only-of-type {\n",
       "        vertical-align: middle;\n",
       "    }\n",
       "\n",
       "    .dataframe tbody tr th {\n",
       "        vertical-align: top;\n",
       "    }\n",
       "\n",
       "    .dataframe thead th {\n",
       "        text-align: right;\n",
       "    }\n",
       "</style>\n",
       "<table border=\"1\" class=\"dataframe\">\n",
       "  <thead>\n",
       "    <tr style=\"text-align: right;\">\n",
       "      <th></th>\n",
       "      <th>Activity Period</th>\n",
       "      <th>Passenger Count</th>\n",
       "    </tr>\n",
       "  </thead>\n",
       "  <tbody>\n",
       "    <tr>\n",
       "      <th>count</th>\n",
       "      <td>36165.000000</td>\n",
       "      <td>36165.000000</td>\n",
       "    </tr>\n",
       "    <tr>\n",
       "      <th>mean</th>\n",
       "      <td>201206.636416</td>\n",
       "      <td>27894.875128</td>\n",
       "    </tr>\n",
       "    <tr>\n",
       "      <th>std</th>\n",
       "      <td>724.614553</td>\n",
       "      <td>62489.937525</td>\n",
       "    </tr>\n",
       "    <tr>\n",
       "      <th>min</th>\n",
       "      <td>199907.000000</td>\n",
       "      <td>0.000000</td>\n",
       "    </tr>\n",
       "    <tr>\n",
       "      <th>25%</th>\n",
       "      <td>200605.000000</td>\n",
       "      <td>4401.000000</td>\n",
       "    </tr>\n",
       "    <tr>\n",
       "      <th>50%</th>\n",
       "      <td>201210.000000</td>\n",
       "      <td>8620.000000</td>\n",
       "    </tr>\n",
       "    <tr>\n",
       "      <th>75%</th>\n",
       "      <td>201809.000000</td>\n",
       "      <td>19841.000000</td>\n",
       "    </tr>\n",
       "    <tr>\n",
       "      <th>max</th>\n",
       "      <td>202405.000000</td>\n",
       "      <td>856501.000000</td>\n",
       "    </tr>\n",
       "  </tbody>\n",
       "</table>\n",
       "</div>"
      ],
      "text/plain": [
       "       Activity Period  Passenger Count\n",
       "count     36165.000000     36165.000000\n",
       "mean     201206.636416     27894.875128\n",
       "std         724.614553     62489.937525\n",
       "min      199907.000000         0.000000\n",
       "25%      200605.000000      4401.000000\n",
       "50%      201210.000000      8620.000000\n",
       "75%      201809.000000     19841.000000\n",
       "max      202405.000000    856501.000000"
      ]
     },
     "execution_count": 5,
     "metadata": {},
     "output_type": "execute_result"
    }
   ],
   "source": [
    "data.describe()"
   ]
  },
  {
   "cell_type": "code",
   "execution_count": 6,
   "metadata": {},
   "outputs": [
    {
     "name": "stdout",
     "output_type": "stream",
     "text": [
      "<class 'pandas.core.frame.DataFrame'>\n",
      "RangeIndex: 36165 entries, 0 to 36164\n",
      "Data columns (total 15 columns):\n",
      " #   Column                       Non-Null Count  Dtype \n",
      "---  ------                       --------------  ----- \n",
      " 0   Activity Period              36165 non-null  int64 \n",
      " 1   Activity Period Start Date   36165 non-null  object\n",
      " 2   Operating Airline            36165 non-null  object\n",
      " 3   Operating Airline IATA Code  35849 non-null  object\n",
      " 4   Published Airline            36165 non-null  object\n",
      " 5   Published Airline IATA Code  35849 non-null  object\n",
      " 6   GEO Summary                  36165 non-null  object\n",
      " 7   GEO Region                   36165 non-null  object\n",
      " 8   Activity Type Code           36165 non-null  object\n",
      " 9   Price Category Code          36165 non-null  object\n",
      " 10  Terminal                     36165 non-null  object\n",
      " 11  Boarding Area                36165 non-null  object\n",
      " 12  Passenger Count              36165 non-null  int64 \n",
      " 13  data_as_of                   36165 non-null  object\n",
      " 14  data_loaded_at               36165 non-null  object\n",
      "dtypes: int64(2), object(13)\n",
      "memory usage: 4.1+ MB\n"
     ]
    }
   ],
   "source": [
    "data.info()"
   ]
  },
  {
   "cell_type": "markdown",
   "metadata": {},
   "source": [
    "#### Majority of our data are 'objects.' Intuitively, we can estimate that converting object to int for some columns will be usless. "
   ]
  },
  {
   "cell_type": "markdown",
   "metadata": {},
   "source": [
    "#### I would like to view null values by Operating Airline, this would help us fill the missing values quicker."
   ]
  },
  {
   "cell_type": "code",
   "execution_count": 7,
   "metadata": {},
   "outputs": [
    {
     "name": "stdout",
     "output_type": "stream",
     "text": [
      "['Aeroflot Russian International Airlines' 'China Eastern Airlines, Inc'\n",
      " 'Sobelair Airlines' 'Sports Jet' 'North American Airlines' 'Sports Hawk'\n",
      " 'Allegro Airlines' 'DB Air' 'Boeing Company' 'Servisair'\n",
      " 'Pacific Aviation' 'Swissport USA' 'Trego Dugan Aviation'\n",
      " 'Air Italy S.P.A' 'El Al Israel Airlines LTD.'\n",
      " 'Norwegian Air Shuttle ASA' 'Samsic Airport America, LLC']\n"
     ]
    }
   ],
   "source": [
    "# Filter rows where Operating value is null \n",
    "\n",
    "null_values_operating = data[data['Operating Airline IATA Code'].isnull()]\n",
    "null_count_by_operating = null_values_operating['Operating Airline'].unique()\n",
    "print(null_count_by_operating)"
   ]
  },
  {
   "cell_type": "code",
   "execution_count": 8,
   "metadata": {},
   "outputs": [
    {
     "name": "stdout",
     "output_type": "stream",
     "text": [
      "['Aeroflot Russian International Airlines' 'China Eastern Airlines, Inc'\n",
      " 'Sobelair Airlines' 'Sports Jet' 'North American Airlines' 'Sports Hawk'\n",
      " 'Allegro Airlines' 'DB Air' 'Boeing Company' 'Servisair'\n",
      " 'Pacific Aviation' 'Swissport USA' 'Trego Dugan Aviation'\n",
      " 'Air Italy S.P.A' 'El Al Israel Airlines LTD.'\n",
      " 'Norwegian Air Shuttle ASA' 'Samsic Airport America, LLC']\n"
     ]
    }
   ],
   "source": [
    "# Do the same for 'Published Airline'\n",
    "\n",
    "null_values_published = data[data['Published Airline IATA Code'].isnull()]\n",
    "null_count_by_published = null_values_published['Published Airline'].unique()\n",
    "print(null_count_by_published)"
   ]
  },
  {
   "cell_type": "markdown",
   "metadata": {},
   "source": [
    "#### Before we add values to these null rows, I also want to see if published IATA airline code and Operating Airline IATA code are the same, if so, we will drop one of them as it is not needed. "
   ]
  },
  {
   "cell_type": "code",
   "execution_count": 9,
   "metadata": {},
   "outputs": [
    {
     "name": "stdout",
     "output_type": "stream",
     "text": [
      "Unique columns\n"
     ]
    }
   ],
   "source": [
    "same_values = data['Published Airline IATA Code'].equals(data['Operating Airline IATA Code'])\n",
    "\n",
    "if same_values:\n",
    "    print('Values are the same')\n",
    "else:\n",
    "    print('Unique columns')"
   ]
  },
  {
   "cell_type": "markdown",
   "metadata": {},
   "source": [
    "#### We know that Published Airline Code and Operating Airline Code are differentiated as indicated on the source. However, both values were missing the same amount so it is good to verify. Let's fill up the IATA code for airlines with null values. "
   ]
  },
  {
   "cell_type": "code",
   "execution_count": 10,
   "metadata": {},
   "outputs": [],
   "source": [
    "# Start with a dictionary since we need to map values to a particular key \n",
    "\n",
    "iata_operating_map = {\n",
    "    'Aeroflot Russian International Airlines': 'SU',\n",
    "    'China Eastern Airlines, Inc': 'MU',\n",
    "    'Sobelair Airlines': 'Q7',\n",
    "    'Sports Jet': 'SJ',\n",
    "    'North American Airlines': 'NA',\n",
    "    'Sports Hawk': 'SH',\n",
    "    'Allegro Airlines': 'AL', \n",
    "    'DB Air': 'DB', \n",
    "    'Boeing Company': 'BO',\n",
    "    'Servisair': 'SV',\n",
    "    'Pacific Aviation': 'BL',\n",
    "    'Swissport USA': 'SW',\n",
    "    'Trego Dugan Aviation': 'TD',\n",
    "    'Air Italy S.P.A': 'IG',\n",
    "    'El Al Israel Airlines LTD.': 'LY',\n",
    "    'Norwegian Air Shuttle ASA': 'DY',\n",
    "    'Samsic Airport America, LLC': 'SA',\n",
    "    \n",
    "}\n",
    "\n",
    "# We will create a function to fill both null columns\n",
    "# Please note: I googled all of the IATA codes, but some I had to guess on as google did not return all results\n",
    "\n",
    "def fill_iata_code(row):\n",
    "    if pd.isnull(row['Operating Airline IATA Code']):\n",
    "        row['Operating Airline IATA Code'] = iata_operating_map.get(row['Operating Airline'], None)\n",
    "    if pd.isnull(row['Published Airline IATA Code']):\n",
    "        row['Published Airline IATA Code'] = iata_operating_map.get(row['Published Airline'], None)\n",
    "    return row\n",
    "\n",
    "data = data.apply(fill_iata_code, axis=1)"
   ]
  },
  {
   "cell_type": "code",
   "execution_count": 11,
   "metadata": {},
   "outputs": [
    {
     "data": {
      "text/html": [
       "<div>\n",
       "<style scoped>\n",
       "    .dataframe tbody tr th:only-of-type {\n",
       "        vertical-align: middle;\n",
       "    }\n",
       "\n",
       "    .dataframe tbody tr th {\n",
       "        vertical-align: top;\n",
       "    }\n",
       "\n",
       "    .dataframe thead th {\n",
       "        text-align: right;\n",
       "    }\n",
       "</style>\n",
       "<table border=\"1\" class=\"dataframe\">\n",
       "  <thead>\n",
       "    <tr style=\"text-align: right;\">\n",
       "      <th></th>\n",
       "      <th>Activity Period</th>\n",
       "      <th>Activity Period Start Date</th>\n",
       "      <th>Operating Airline</th>\n",
       "      <th>Operating Airline IATA Code</th>\n",
       "      <th>Published Airline</th>\n",
       "      <th>Published Airline IATA Code</th>\n",
       "      <th>GEO Summary</th>\n",
       "      <th>GEO Region</th>\n",
       "      <th>Activity Type Code</th>\n",
       "      <th>Price Category Code</th>\n",
       "      <th>Terminal</th>\n",
       "      <th>Boarding Area</th>\n",
       "      <th>Passenger Count</th>\n",
       "      <th>data_as_of</th>\n",
       "      <th>data_loaded_at</th>\n",
       "    </tr>\n",
       "  </thead>\n",
       "  <tbody>\n",
       "    <tr>\n",
       "      <th>0</th>\n",
       "      <td>199907</td>\n",
       "      <td>1999/07/01</td>\n",
       "      <td>ATA Airlines</td>\n",
       "      <td>TZ</td>\n",
       "      <td>ATA Airlines</td>\n",
       "      <td>TZ</td>\n",
       "      <td>Domestic</td>\n",
       "      <td>US</td>\n",
       "      <td>Deplaned</td>\n",
       "      <td>Low Fare</td>\n",
       "      <td>Terminal 1</td>\n",
       "      <td>B</td>\n",
       "      <td>31432</td>\n",
       "      <td>2024/06/20 01:00:26 PM</td>\n",
       "      <td>2024/07/22 03:01:47 PM</td>\n",
       "    </tr>\n",
       "    <tr>\n",
       "      <th>1</th>\n",
       "      <td>199907</td>\n",
       "      <td>1999/07/01</td>\n",
       "      <td>ATA Airlines</td>\n",
       "      <td>TZ</td>\n",
       "      <td>ATA Airlines</td>\n",
       "      <td>TZ</td>\n",
       "      <td>Domestic</td>\n",
       "      <td>US</td>\n",
       "      <td>Enplaned</td>\n",
       "      <td>Low Fare</td>\n",
       "      <td>Terminal 1</td>\n",
       "      <td>B</td>\n",
       "      <td>31353</td>\n",
       "      <td>2024/06/20 01:00:26 PM</td>\n",
       "      <td>2024/07/22 03:01:47 PM</td>\n",
       "    </tr>\n",
       "    <tr>\n",
       "      <th>2</th>\n",
       "      <td>199907</td>\n",
       "      <td>1999/07/01</td>\n",
       "      <td>ATA Airlines</td>\n",
       "      <td>TZ</td>\n",
       "      <td>ATA Airlines</td>\n",
       "      <td>TZ</td>\n",
       "      <td>Domestic</td>\n",
       "      <td>US</td>\n",
       "      <td>Thru / Transit</td>\n",
       "      <td>Low Fare</td>\n",
       "      <td>Terminal 1</td>\n",
       "      <td>B</td>\n",
       "      <td>2518</td>\n",
       "      <td>2024/06/20 01:00:26 PM</td>\n",
       "      <td>2024/07/22 03:01:47 PM</td>\n",
       "    </tr>\n",
       "    <tr>\n",
       "      <th>3</th>\n",
       "      <td>199907</td>\n",
       "      <td>1999/07/01</td>\n",
       "      <td>Aeroflot Russian International Airlines</td>\n",
       "      <td>SU</td>\n",
       "      <td>Aeroflot Russian International Airlines</td>\n",
       "      <td>SU</td>\n",
       "      <td>International</td>\n",
       "      <td>Europe</td>\n",
       "      <td>Deplaned</td>\n",
       "      <td>Other</td>\n",
       "      <td>Terminal 2</td>\n",
       "      <td>D</td>\n",
       "      <td>1324</td>\n",
       "      <td>2024/06/20 01:00:26 PM</td>\n",
       "      <td>2024/07/22 03:01:47 PM</td>\n",
       "    </tr>\n",
       "    <tr>\n",
       "      <th>4</th>\n",
       "      <td>199907</td>\n",
       "      <td>1999/07/01</td>\n",
       "      <td>Aeroflot Russian International Airlines</td>\n",
       "      <td>SU</td>\n",
       "      <td>Aeroflot Russian International Airlines</td>\n",
       "      <td>SU</td>\n",
       "      <td>International</td>\n",
       "      <td>Europe</td>\n",
       "      <td>Enplaned</td>\n",
       "      <td>Other</td>\n",
       "      <td>Terminal 2</td>\n",
       "      <td>D</td>\n",
       "      <td>1198</td>\n",
       "      <td>2024/06/20 01:00:26 PM</td>\n",
       "      <td>2024/07/22 03:01:47 PM</td>\n",
       "    </tr>\n",
       "  </tbody>\n",
       "</table>\n",
       "</div>"
      ],
      "text/plain": [
       "   Activity Period Activity Period Start Date  \\\n",
       "0           199907                 1999/07/01   \n",
       "1           199907                 1999/07/01   \n",
       "2           199907                 1999/07/01   \n",
       "3           199907                 1999/07/01   \n",
       "4           199907                 1999/07/01   \n",
       "\n",
       "                         Operating Airline Operating Airline IATA Code  \\\n",
       "0                             ATA Airlines                          TZ   \n",
       "1                             ATA Airlines                          TZ   \n",
       "2                             ATA Airlines                          TZ   \n",
       "3  Aeroflot Russian International Airlines                          SU   \n",
       "4  Aeroflot Russian International Airlines                          SU   \n",
       "\n",
       "                         Published Airline Published Airline IATA Code  \\\n",
       "0                             ATA Airlines                          TZ   \n",
       "1                             ATA Airlines                          TZ   \n",
       "2                             ATA Airlines                          TZ   \n",
       "3  Aeroflot Russian International Airlines                          SU   \n",
       "4  Aeroflot Russian International Airlines                          SU   \n",
       "\n",
       "     GEO Summary GEO Region Activity Type Code Price Category Code  \\\n",
       "0       Domestic         US           Deplaned            Low Fare   \n",
       "1       Domestic         US           Enplaned            Low Fare   \n",
       "2       Domestic         US     Thru / Transit            Low Fare   \n",
       "3  International     Europe           Deplaned               Other   \n",
       "4  International     Europe           Enplaned               Other   \n",
       "\n",
       "     Terminal Boarding Area  Passenger Count              data_as_of  \\\n",
       "0  Terminal 1             B            31432  2024/06/20 01:00:26 PM   \n",
       "1  Terminal 1             B            31353  2024/06/20 01:00:26 PM   \n",
       "2  Terminal 1             B             2518  2024/06/20 01:00:26 PM   \n",
       "3  Terminal 2             D             1324  2024/06/20 01:00:26 PM   \n",
       "4  Terminal 2             D             1198  2024/06/20 01:00:26 PM   \n",
       "\n",
       "           data_loaded_at  \n",
       "0  2024/07/22 03:01:47 PM  \n",
       "1  2024/07/22 03:01:47 PM  \n",
       "2  2024/07/22 03:01:47 PM  \n",
       "3  2024/07/22 03:01:47 PM  \n",
       "4  2024/07/22 03:01:47 PM  "
      ]
     },
     "execution_count": 11,
     "metadata": {},
     "output_type": "execute_result"
    }
   ],
   "source": [
    "# In the data head, we saw some null objects. Lets run it again and see if it worked. \n",
    "\n",
    "data.head()"
   ]
  },
  {
   "cell_type": "code",
   "execution_count": 12,
   "metadata": {},
   "outputs": [
    {
     "data": {
      "text/plain": [
       "Activity Period                0\n",
       "Activity Period Start Date     0\n",
       "Operating Airline              0\n",
       "Operating Airline IATA Code    0\n",
       "Published Airline              0\n",
       "Published Airline IATA Code    0\n",
       "GEO Summary                    0\n",
       "GEO Region                     0\n",
       "Activity Type Code             0\n",
       "Price Category Code            0\n",
       "Terminal                       0\n",
       "Boarding Area                  0\n",
       "Passenger Count                0\n",
       "data_as_of                     0\n",
       "data_loaded_at                 0\n",
       "dtype: int64"
      ]
     },
     "execution_count": 12,
     "metadata": {},
     "output_type": "execute_result"
    }
   ],
   "source": [
    "# We can see our code was successful! To be sure, lets run the null test again.\n",
    "\n",
    "data.isnull().sum()"
   ]
  },
  {
   "cell_type": "markdown",
   "metadata": {},
   "source": [
    "#### We can covert Activity period start date to a date format since it is an 'object' dtype"
   ]
  },
  {
   "cell_type": "code",
   "execution_count": 13,
   "metadata": {},
   "outputs": [
    {
     "name": "stdout",
     "output_type": "stream",
     "text": [
      "Activity Period                 int64\n",
      "Activity Period Start Date     object\n",
      "Operating Airline              object\n",
      "Operating Airline IATA Code    object\n",
      "Published Airline              object\n",
      "Published Airline IATA Code    object\n",
      "GEO Summary                    object\n",
      "GEO Region                     object\n",
      "Activity Type Code             object\n",
      "Price Category Code            object\n",
      "Terminal                       object\n",
      "Boarding Area                  object\n",
      "Passenger Count                 int64\n",
      "data_as_of                     object\n",
      "data_loaded_at                 object\n",
      "dtype: object\n"
     ]
    }
   ],
   "source": [
    "print(data.dtypes)"
   ]
  },
  {
   "cell_type": "code",
   "execution_count": 14,
   "metadata": {},
   "outputs": [
    {
     "name": "stdout",
     "output_type": "stream",
     "text": [
      "Updated Data Types: \n",
      "Activity Period                         int64\n",
      "Activity Period Start Date     datetime64[ns]\n",
      "Operating Airline                      object\n",
      "Operating Airline IATA Code            object\n",
      "Published Airline                      object\n",
      "Published Airline IATA Code            object\n",
      "GEO Summary                            object\n",
      "GEO Region                             object\n",
      "Activity Type Code                     object\n",
      "Price Category Code                    object\n",
      "Terminal                               object\n",
      "Boarding Area                          object\n",
      "Passenger Count                         int64\n",
      "data_as_of                             object\n",
      "data_loaded_at                         object\n",
      "dtype: object\n"
     ]
    }
   ],
   "source": [
    "data['Activity Period Start Date'] = pd.to_datetime(data['Activity Period Start Date'])\n",
    "print('Updated Data Types: ')\n",
    "print(data.dtypes)"
   ]
  },
  {
   "cell_type": "markdown",
   "metadata": {},
   "source": [
    "#### We can drop data as of, and data loaded at since it is not relevant to our exploration."
   ]
  },
  {
   "cell_type": "code",
   "execution_count": 15,
   "metadata": {},
   "outputs": [],
   "source": [
    "if 'data_as_of' in data.columns:\n",
    "    data.drop(['data_as_of'], axis=1, inplace=True)\n",
    "if 'data_loaded_at' in data.columns:\n",
    "    data.drop(['data_loaded_at'], axis=1, inplace=True)\n",
    "    \n",
    "# It is not necessary to use an IF statement here, but it works"
   ]
  },
  {
   "cell_type": "code",
   "execution_count": 16,
   "metadata": {},
   "outputs": [
    {
     "data": {
      "text/html": [
       "<div>\n",
       "<style scoped>\n",
       "    .dataframe tbody tr th:only-of-type {\n",
       "        vertical-align: middle;\n",
       "    }\n",
       "\n",
       "    .dataframe tbody tr th {\n",
       "        vertical-align: top;\n",
       "    }\n",
       "\n",
       "    .dataframe thead th {\n",
       "        text-align: right;\n",
       "    }\n",
       "</style>\n",
       "<table border=\"1\" class=\"dataframe\">\n",
       "  <thead>\n",
       "    <tr style=\"text-align: right;\">\n",
       "      <th></th>\n",
       "      <th>Activity Period</th>\n",
       "      <th>Activity Period Start Date</th>\n",
       "      <th>Operating Airline</th>\n",
       "      <th>Operating Airline IATA Code</th>\n",
       "      <th>Published Airline</th>\n",
       "      <th>Published Airline IATA Code</th>\n",
       "      <th>GEO Summary</th>\n",
       "      <th>GEO Region</th>\n",
       "      <th>Activity Type Code</th>\n",
       "      <th>Price Category Code</th>\n",
       "      <th>Terminal</th>\n",
       "      <th>Boarding Area</th>\n",
       "      <th>Passenger Count</th>\n",
       "    </tr>\n",
       "  </thead>\n",
       "  <tbody>\n",
       "    <tr>\n",
       "      <th>0</th>\n",
       "      <td>199907</td>\n",
       "      <td>1999-07-01</td>\n",
       "      <td>ATA Airlines</td>\n",
       "      <td>TZ</td>\n",
       "      <td>ATA Airlines</td>\n",
       "      <td>TZ</td>\n",
       "      <td>Domestic</td>\n",
       "      <td>US</td>\n",
       "      <td>Deplaned</td>\n",
       "      <td>Low Fare</td>\n",
       "      <td>Terminal 1</td>\n",
       "      <td>B</td>\n",
       "      <td>31432</td>\n",
       "    </tr>\n",
       "    <tr>\n",
       "      <th>1</th>\n",
       "      <td>199907</td>\n",
       "      <td>1999-07-01</td>\n",
       "      <td>ATA Airlines</td>\n",
       "      <td>TZ</td>\n",
       "      <td>ATA Airlines</td>\n",
       "      <td>TZ</td>\n",
       "      <td>Domestic</td>\n",
       "      <td>US</td>\n",
       "      <td>Enplaned</td>\n",
       "      <td>Low Fare</td>\n",
       "      <td>Terminal 1</td>\n",
       "      <td>B</td>\n",
       "      <td>31353</td>\n",
       "    </tr>\n",
       "    <tr>\n",
       "      <th>2</th>\n",
       "      <td>199907</td>\n",
       "      <td>1999-07-01</td>\n",
       "      <td>ATA Airlines</td>\n",
       "      <td>TZ</td>\n",
       "      <td>ATA Airlines</td>\n",
       "      <td>TZ</td>\n",
       "      <td>Domestic</td>\n",
       "      <td>US</td>\n",
       "      <td>Thru / Transit</td>\n",
       "      <td>Low Fare</td>\n",
       "      <td>Terminal 1</td>\n",
       "      <td>B</td>\n",
       "      <td>2518</td>\n",
       "    </tr>\n",
       "    <tr>\n",
       "      <th>3</th>\n",
       "      <td>199907</td>\n",
       "      <td>1999-07-01</td>\n",
       "      <td>Aeroflot Russian International Airlines</td>\n",
       "      <td>SU</td>\n",
       "      <td>Aeroflot Russian International Airlines</td>\n",
       "      <td>SU</td>\n",
       "      <td>International</td>\n",
       "      <td>Europe</td>\n",
       "      <td>Deplaned</td>\n",
       "      <td>Other</td>\n",
       "      <td>Terminal 2</td>\n",
       "      <td>D</td>\n",
       "      <td>1324</td>\n",
       "    </tr>\n",
       "    <tr>\n",
       "      <th>4</th>\n",
       "      <td>199907</td>\n",
       "      <td>1999-07-01</td>\n",
       "      <td>Aeroflot Russian International Airlines</td>\n",
       "      <td>SU</td>\n",
       "      <td>Aeroflot Russian International Airlines</td>\n",
       "      <td>SU</td>\n",
       "      <td>International</td>\n",
       "      <td>Europe</td>\n",
       "      <td>Enplaned</td>\n",
       "      <td>Other</td>\n",
       "      <td>Terminal 2</td>\n",
       "      <td>D</td>\n",
       "      <td>1198</td>\n",
       "    </tr>\n",
       "  </tbody>\n",
       "</table>\n",
       "</div>"
      ],
      "text/plain": [
       "   Activity Period Activity Period Start Date  \\\n",
       "0           199907                 1999-07-01   \n",
       "1           199907                 1999-07-01   \n",
       "2           199907                 1999-07-01   \n",
       "3           199907                 1999-07-01   \n",
       "4           199907                 1999-07-01   \n",
       "\n",
       "                         Operating Airline Operating Airline IATA Code  \\\n",
       "0                             ATA Airlines                          TZ   \n",
       "1                             ATA Airlines                          TZ   \n",
       "2                             ATA Airlines                          TZ   \n",
       "3  Aeroflot Russian International Airlines                          SU   \n",
       "4  Aeroflot Russian International Airlines                          SU   \n",
       "\n",
       "                         Published Airline Published Airline IATA Code  \\\n",
       "0                             ATA Airlines                          TZ   \n",
       "1                             ATA Airlines                          TZ   \n",
       "2                             ATA Airlines                          TZ   \n",
       "3  Aeroflot Russian International Airlines                          SU   \n",
       "4  Aeroflot Russian International Airlines                          SU   \n",
       "\n",
       "     GEO Summary GEO Region Activity Type Code Price Category Code  \\\n",
       "0       Domestic         US           Deplaned            Low Fare   \n",
       "1       Domestic         US           Enplaned            Low Fare   \n",
       "2       Domestic         US     Thru / Transit            Low Fare   \n",
       "3  International     Europe           Deplaned               Other   \n",
       "4  International     Europe           Enplaned               Other   \n",
       "\n",
       "     Terminal Boarding Area  Passenger Count  \n",
       "0  Terminal 1             B            31432  \n",
       "1  Terminal 1             B            31353  \n",
       "2  Terminal 1             B             2518  \n",
       "3  Terminal 2             D             1324  \n",
       "4  Terminal 2             D             1198  "
      ]
     },
     "execution_count": 16,
     "metadata": {},
     "output_type": "execute_result"
    }
   ],
   "source": [
    "data.head()"
   ]
  },
  {
   "cell_type": "markdown",
   "metadata": {},
   "source": [
    "#### There are PLENTY more items we can manipulate here (such as: converting Terminal to integers, Price category codes can also be presented as a numerical value, etc.)"
   ]
  },
  {
   "cell_type": "markdown",
   "metadata": {},
   "source": [
    "#### However, what we have is good enough to start generating charts, graphs and visualizing correlation and such."
   ]
  },
  {
   "cell_type": "markdown",
   "metadata": {},
   "source": [
    "# Data Visualization"
   ]
  },
  {
   "cell_type": "markdown",
   "metadata": {},
   "source": [
    "## All time International vs domestic traffic pattern by year"
   ]
  },
  {
   "cell_type": "markdown",
   "metadata": {},
   "source": [
    "#### Firstly, we need to visualize our data by year, and if we do it now as the data as is, it will be by WHOLE DATE. \n",
    "#### This will make our chart too large and long, not all data points can fit."
   ]
  },
  {
   "cell_type": "code",
   "execution_count": 17,
   "metadata": {},
   "outputs": [
    {
     "name": "stdout",
     "output_type": "stream",
     "text": [
      "    Year  Passenger Count\n",
      "0   1999         20982632\n",
      "1   2000         40691441\n",
      "2   2001         34287324\n",
      "3   2002         31091334\n",
      "4   2003         29049728\n",
      "5   2004         32450507\n",
      "6   2005         33099210\n",
      "7   2006         33332970\n",
      "8   2007         35554082\n",
      "9   2008         37234678\n",
      "10  2009         37338942\n",
      "11  2010         39253999\n",
      "12  2011         40927786\n",
      "13  2012         44399885\n",
      "14  2013         44945760\n",
      "15  2014         47114631\n",
      "16  2015         50057887\n",
      "17  2016         53103448\n",
      "18  2017         55823712\n",
      "19  2018         57746873\n",
      "20  2019         57418574\n",
      "21  2020         16418713\n",
      "22  2021         24334553\n",
      "23  2022         42209058\n",
      "24  2023         50141567\n",
      "25  2024         19808865\n"
     ]
    }
   ],
   "source": [
    "data['Year'] = data['Activity Period Start Date'].dt.year\n",
    "yearly_data = data.groupby('Year')['Passenger Count'].sum().reset_index()\n",
    "print(yearly_data)"
   ]
  },
  {
   "cell_type": "markdown",
   "metadata": {},
   "source": [
    "#### Above, we can see all passengers by the year, but it would be more attractive and readable in a barplot. "
   ]
  },
  {
   "cell_type": "code",
   "execution_count": 18,
   "metadata": {},
   "outputs": [
    {
     "name": "stdout",
     "output_type": "stream",
     "text": [
      "Defaulting to user installation because normal site-packages is not writeable"
     ]
    },
    {
     "name": "stderr",
     "output_type": "stream",
     "text": [
      "\n",
      "[notice] A new release of pip is available: 24.0 -> 24.1.2\n",
      "[notice] To update, run: python.exe -m pip install --upgrade pip\n"
     ]
    },
    {
     "name": "stdout",
     "output_type": "stream",
     "text": [
      "\n",
      "Requirement already satisfied: matplotlib in c:\\users\\syed_\\appdata\\roaming\\python\\python312\\site-packages (3.9.1)\n",
      "Requirement already satisfied: seaborn in c:\\users\\syed_\\appdata\\roaming\\python\\python312\\site-packages (0.13.2)\n",
      "Requirement already satisfied: contourpy>=1.0.1 in c:\\users\\syed_\\appdata\\roaming\\python\\python312\\site-packages (from matplotlib) (1.2.1)\n",
      "Requirement already satisfied: cycler>=0.10 in c:\\users\\syed_\\appdata\\roaming\\python\\python312\\site-packages (from matplotlib) (0.12.1)\n",
      "Requirement already satisfied: fonttools>=4.22.0 in c:\\users\\syed_\\appdata\\roaming\\python\\python312\\site-packages (from matplotlib) (4.53.1)\n",
      "Requirement already satisfied: kiwisolver>=1.3.1 in c:\\users\\syed_\\appdata\\roaming\\python\\python312\\site-packages (from matplotlib) (1.4.5)\n",
      "Requirement already satisfied: numpy>=1.23 in c:\\users\\syed_\\appdata\\roaming\\python\\python312\\site-packages (from matplotlib) (2.0.0)\n",
      "Requirement already satisfied: packaging>=20.0 in c:\\users\\syed_\\appdata\\roaming\\python\\python312\\site-packages (from matplotlib) (24.0)\n",
      "Requirement already satisfied: pillow>=8 in c:\\users\\syed_\\appdata\\roaming\\python\\python312\\site-packages (from matplotlib) (10.4.0)\n",
      "Requirement already satisfied: pyparsing>=2.3.1 in c:\\users\\syed_\\appdata\\roaming\\python\\python312\\site-packages (from matplotlib) (3.1.2)\n",
      "Requirement already satisfied: python-dateutil>=2.7 in c:\\users\\syed_\\appdata\\roaming\\python\\python312\\site-packages (from matplotlib) (2.9.0.post0)\n",
      "Requirement already satisfied: pandas>=1.2 in c:\\users\\syed_\\appdata\\roaming\\python\\python312\\site-packages (from seaborn) (2.2.2)\n",
      "Requirement already satisfied: pytz>=2020.1 in c:\\users\\syed_\\appdata\\roaming\\python\\python312\\site-packages (from pandas>=1.2->seaborn) (2024.1)\n",
      "Requirement already satisfied: tzdata>=2022.7 in c:\\users\\syed_\\appdata\\roaming\\python\\python312\\site-packages (from pandas>=1.2->seaborn) (2024.1)\n",
      "Requirement already satisfied: six>=1.5 in c:\\users\\syed_\\appdata\\roaming\\python\\python312\\site-packages (from python-dateutil>=2.7->matplotlib) (1.16.0)\n"
     ]
    }
   ],
   "source": [
    "# Import data viz libraries\n",
    "\n",
    "!pip install matplotlib seaborn"
   ]
  },
  {
   "cell_type": "code",
   "execution_count": 19,
   "metadata": {},
   "outputs": [],
   "source": [
    "import matplotlib.pyplot as plt\n",
    "import seaborn as sns"
   ]
  },
  {
   "cell_type": "code",
   "execution_count": 25,
   "metadata": {},
   "outputs": [
    {
     "data": {
      "image/png": "[encoded data removed]",
      "text/plain": [
       "<Figure size 1500x800 with 1 Axes>"
      ]
     },
     "metadata": {},
     "output_type": "display_data"
    }
   ],
   "source": [
    "plt.figure(figsize=(15,8))\n",
    "sns.barplot(x = 'Year', y = 'Passenger Count', data = yearly_data, color = 'red')\n",
    "plt.xlabel('Year')\n",
    "plt.ylabel('Traffic (by 10 million)')\n",
    "plt.title('Traffic at airport by Year')\n",
    "plt.show()"
   ]
  },
  {
   "cell_type": "markdown",
   "metadata": {},
   "source": [
    "#### From this visualization, we can conclude that prior to 2020, travel trend was on a uptick. However, in 2020, traffic significantly decreased. This is due to COVID-19. As we are currently midway through 2024, the numbers are not definitive and may seem like it is on a downtrend, but the year has to end to be properly assessed."
   ]
  },
  {
   "cell_type": "markdown",
   "metadata": {},
   "source": [
    "#### Let's look at international vs domestic. "
   ]
  },
  {
   "cell_type": "code",
   "execution_count": 30,
   "metadata": {},
   "outputs": [
    {
     "data": {
      "image/png": "[encoded data removed]",
      "text/plain": [
       "<Figure size 1500x800 with 1 Axes>"
      ]
     },
     "metadata": {},
     "output_type": "display_data"
    }
   ],
   "source": [
    "traffic_type = data.groupby(['Activity Period Start Date', 'GEO Summary'])['Passenger Count'].sum().reset_index()\n",
    "\n",
    "plt.figure(figsize=(15,8))\n",
    "sns.lineplot(x = 'Activity Period Start Date', y = 'Passenger Count', data = traffic_type, hue = 'GEO Summary')\n",
    "plt.xlabel('Year')\n",
    "plt.ylabel('Traffic (by 10 million)')\n",
    "plt.title('Passenger Traffic Pattern: International vs Domestic')\n",
    "plt.legend(title='Travel Type')\n",
    "plt.show()"
   ]
  },
  {
   "cell_type": "markdown",
   "metadata": {},
   "source": [
    "#### According to our dataset, 2018 was the busiest travel year. Let's look at how 2018 performed by season. "
   ]
  },
  {
   "cell_type": "code",
   "execution_count": 34,
   "metadata": {},
   "outputs": [
    {
     "name": "stderr",
     "output_type": "stream",
     "text": [
      "C:\\Users\\syed_\\AppData\\Local\\Temp\\ipykernel_12804\\405210156.py:16: SettingWithCopyWarning: \n",
      "A value is trying to be set on a copy of a slice from a DataFrame.\n",
      "Try using .loc[row_indexer,col_indexer] = value instead\n",
      "\n",
      "See the caveats in the documentation: https://pandas.pydata.org/pandas-docs/stable/user_guide/indexing.html#returning-a-view-versus-a-copy\n",
      "  data_2018['Season'] = data_2018['Month'].apply(get_season)\n"
     ]
    },
    {
     "data": {
      "text/html": [
       "<div>\n",
       "<style scoped>\n",
       "    .dataframe tbody tr th:only-of-type {\n",
       "        vertical-align: middle;\n",
       "    }\n",
       "\n",
       "    .dataframe tbody tr th {\n",
       "        vertical-align: top;\n",
       "    }\n",
       "\n",
       "    .dataframe thead th {\n",
       "        text-align: right;\n",
       "    }\n",
       "</style>\n",
       "<table border=\"1\" class=\"dataframe\">\n",
       "  <thead>\n",
       "    <tr style=\"text-align: right;\">\n",
       "      <th></th>\n",
       "      <th>Activity Period</th>\n",
       "      <th>Activity Period Start Date</th>\n",
       "      <th>Operating Airline</th>\n",
       "      <th>Operating Airline IATA Code</th>\n",
       "      <th>Published Airline</th>\n",
       "      <th>Published Airline IATA Code</th>\n",
       "      <th>GEO Summary</th>\n",
       "      <th>GEO Region</th>\n",
       "      <th>Activity Type Code</th>\n",
       "      <th>Price Category Code</th>\n",
       "      <th>Terminal</th>\n",
       "      <th>Boarding Area</th>\n",
       "      <th>Passenger Count</th>\n",
       "      <th>Year</th>\n",
       "      <th>Month</th>\n",
       "      <th>Season</th>\n",
       "    </tr>\n",
       "  </thead>\n",
       "  <tbody>\n",
       "    <tr>\n",
       "      <th>25825</th>\n",
       "      <td>201801</td>\n",
       "      <td>2018-01-01</td>\n",
       "      <td>Aer Lingus, Ltd.</td>\n",
       "      <td>EI</td>\n",
       "      <td>Aer Lingus, Ltd.</td>\n",
       "      <td>EI</td>\n",
       "      <td>International</td>\n",
       "      <td>Europe</td>\n",
       "      <td>Deplaned</td>\n",
       "      <td>Other</td>\n",
       "      <td>International</td>\n",
       "      <td>G</td>\n",
       "      <td>5050</td>\n",
       "      <td>2018</td>\n",
       "      <td>1</td>\n",
       "      <td>Winter</td>\n",
       "    </tr>\n",
       "    <tr>\n",
       "      <th>25826</th>\n",
       "      <td>201801</td>\n",
       "      <td>2018-01-01</td>\n",
       "      <td>Aer Lingus, Ltd.</td>\n",
       "      <td>EI</td>\n",
       "      <td>Aer Lingus, Ltd.</td>\n",
       "      <td>EI</td>\n",
       "      <td>International</td>\n",
       "      <td>Europe</td>\n",
       "      <td>Enplaned</td>\n",
       "      <td>Other</td>\n",
       "      <td>International</td>\n",
       "      <td>G</td>\n",
       "      <td>4260</td>\n",
       "      <td>2018</td>\n",
       "      <td>1</td>\n",
       "      <td>Winter</td>\n",
       "    </tr>\n",
       "    <tr>\n",
       "      <th>25827</th>\n",
       "      <td>201801</td>\n",
       "      <td>2018-01-01</td>\n",
       "      <td>Aeromexico</td>\n",
       "      <td>AM</td>\n",
       "      <td>Aeromexico</td>\n",
       "      <td>AM</td>\n",
       "      <td>International</td>\n",
       "      <td>Mexico</td>\n",
       "      <td>Deplaned</td>\n",
       "      <td>Other</td>\n",
       "      <td>International</td>\n",
       "      <td>A</td>\n",
       "      <td>14228</td>\n",
       "      <td>2018</td>\n",
       "      <td>1</td>\n",
       "      <td>Winter</td>\n",
       "    </tr>\n",
       "    <tr>\n",
       "      <th>25828</th>\n",
       "      <td>201801</td>\n",
       "      <td>2018-01-01</td>\n",
       "      <td>Aeromexico</td>\n",
       "      <td>AM</td>\n",
       "      <td>Aeromexico</td>\n",
       "      <td>AM</td>\n",
       "      <td>International</td>\n",
       "      <td>Mexico</td>\n",
       "      <td>Enplaned</td>\n",
       "      <td>Other</td>\n",
       "      <td>International</td>\n",
       "      <td>A</td>\n",
       "      <td>12279</td>\n",
       "      <td>2018</td>\n",
       "      <td>1</td>\n",
       "      <td>Winter</td>\n",
       "    </tr>\n",
       "    <tr>\n",
       "      <th>25829</th>\n",
       "      <td>201801</td>\n",
       "      <td>2018-01-01</td>\n",
       "      <td>Air Canada</td>\n",
       "      <td>AC</td>\n",
       "      <td>Air Canada</td>\n",
       "      <td>AC</td>\n",
       "      <td>International</td>\n",
       "      <td>Canada</td>\n",
       "      <td>Deplaned</td>\n",
       "      <td>Other</td>\n",
       "      <td>International</td>\n",
       "      <td>G</td>\n",
       "      <td>34523</td>\n",
       "      <td>2018</td>\n",
       "      <td>1</td>\n",
       "      <td>Winter</td>\n",
       "    </tr>\n",
       "  </tbody>\n",
       "</table>\n",
       "</div>"
      ],
      "text/plain": [
       "       Activity Period Activity Period Start Date Operating Airline  \\\n",
       "25825           201801                 2018-01-01  Aer Lingus, Ltd.   \n",
       "25826           201801                 2018-01-01  Aer Lingus, Ltd.   \n",
       "25827           201801                 2018-01-01        Aeromexico   \n",
       "25828           201801                 2018-01-01        Aeromexico   \n",
       "25829           201801                 2018-01-01        Air Canada   \n",
       "\n",
       "      Operating Airline IATA Code Published Airline  \\\n",
       "25825                          EI  Aer Lingus, Ltd.   \n",
       "25826                          EI  Aer Lingus, Ltd.   \n",
       "25827                          AM        Aeromexico   \n",
       "25828                          AM        Aeromexico   \n",
       "25829                          AC        Air Canada   \n",
       "\n",
       "      Published Airline IATA Code    GEO Summary GEO Region  \\\n",
       "25825                          EI  International     Europe   \n",
       "25826                          EI  International     Europe   \n",
       "25827                          AM  International     Mexico   \n",
       "25828                          AM  International     Mexico   \n",
       "25829                          AC  International     Canada   \n",
       "\n",
       "      Activity Type Code Price Category Code       Terminal Boarding Area  \\\n",
       "25825           Deplaned               Other  International             G   \n",
       "25826           Enplaned               Other  International             G   \n",
       "25827           Deplaned               Other  International             A   \n",
       "25828           Enplaned               Other  International             A   \n",
       "25829           Deplaned               Other  International             G   \n",
       "\n",
       "       Passenger Count  Year  Month  Season  \n",
       "25825             5050  2018      1  Winter  \n",
       "25826             4260  2018      1  Winter  \n",
       "25827            14228  2018      1  Winter  \n",
       "25828            12279  2018      1  Winter  \n",
       "25829            34523  2018      1  Winter  "
      ]
     },
     "execution_count": 34,
     "metadata": {},
     "output_type": "execute_result"
    }
   ],
   "source": [
    "# I have already extracted a year column, I will need to extract a month column, and create a function that groups the months by season. \n",
    "\n",
    "data['Month'] = data['Activity Period Start Date'].dt.month\n",
    "data_2018 = data[data['Year'] == 2018]\n",
    "\n",
    "def get_season(month):\n",
    "    if month in [12,1,2]:\n",
    "        return 'Winter'\n",
    "    elif month in [3,4,5]:\n",
    "        return 'Spring'\n",
    "    elif month in [6,7,8]:\n",
    "        return 'Summer'\n",
    "    elif month in [9,10,11]:\n",
    "        return 'Fall'\n",
    "    \n",
    "data_2018['Season'] = data_2018['Month'].apply(get_season)\n",
    "data_2018.head()\n"
   ]
  },
  {
   "cell_type": "markdown",
   "metadata": {},
   "source": [
    "#### As we can see, we have successfully added seasons to our dataset for the year 2018. "
   ]
  },
  {
   "cell_type": "code",
   "execution_count": 41,
   "metadata": {},
   "outputs": [
    {
     "data": {
      "image/png": "[encoded data removed]",
      "text/plain": [
       "<Figure size 1500x800 with 1 Axes>"
      ]
     },
     "metadata": {},
     "output_type": "display_data"
    }
   ],
   "source": [
    "seasonal_traffic_2018 = data_2018.groupby(['Season', 'GEO Summary'])['Passenger Count'].sum().reset_index()\n",
    "plt.figure(figsize=(15,8))\n",
    "sns.barplot(data = seasonal_traffic_2018, x = 'Season', y = 'Passenger Count', hue = 'GEO Summary', palette='dark')\n",
    "plt.title('Passenger Traffic by Year in 2018: International vs Domestic')\n",
    "plt.xlabel('Season')\n",
    "plt.ylabel('Traffic (by 10 million)')\n",
    "plt.legend (title = 'GEO Summary')\n",
    "plt.show()"
   ]
  },
  {
   "cell_type": "markdown",
   "metadata": {},
   "source": [
    "#### Summer was a great travel season to/from San Francisco in 2018. This data can be further analyzed but I will conclude my findings here. Thank you so much for viewing this, and I hope you enjoy more projects from me!"
   ]
  }
 ],
 "metadata": {
  "kernelspec": {
   "display_name": "Python 3",
   "language": "python",
   "name": "python3"
  },
  "language_info": {
   "codemirror_mode": {
    "name": "ipython",
    "version": 3
   },
   "file_extension": ".py",
   "mimetype": "text/x-python",
   "name": "python",
   "nbconvert_exporter": "python",
   "pygments_lexer": "ipython3",
   "version": "3.12.2"
  }
 },
 "nbformat": 4,
 "nbformat_minor": 2
}
