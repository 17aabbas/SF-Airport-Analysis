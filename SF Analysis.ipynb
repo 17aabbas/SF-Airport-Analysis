{
 "cells": [
  {
   "cell_type": "markdown",
   "metadata": {},
   "source": [
    "# Exploratory Data Analysis"
   ]
  },
  {
   "cell_type": "markdown",
   "metadata": {},
   "source": [
    "#### Import Libraries"
   ]
  },
  {
   "cell_type": "code",
   "execution_count": 2,
   "metadata": {},
   "outputs": [],
   "source": [
    "# For simplicity, I start by importing libraries I will be using at the beginning, data viz libraries will be imported later\n",
    "\n",
    "import pandas as pd\n",
    "import numpy as np"
   ]
  },
  {
   "cell_type": "markdown",
   "metadata": {},
   "source": [
    "#### We will load the data set"
   ]
  },
  {
   "cell_type": "code",
   "execution_count": 3,
   "metadata": {},
   "outputs": [],
   "source": [
    "# This code is storing our file path in the Data variable. If we want to create more variables and start with a fresh data set\n",
    "# we can do so by created a new variable and using the same code\n",
    "# We will be manipulatng 'data' so everytime we call that variable, it will store all of our changes\n",
    "\n",
    "filepath = 'Air_Traffic_Passenger_Statistics_20240724.csv'\n",
    "data = pd.read_csv(filepath)"
   ]
  },
  {
   "cell_type": "markdown",
   "metadata": {},
   "source": [
    "#### View the head to see what our data looks like"
   ]
  },
  {
   "cell_type": "code",
   "execution_count": 5,
   "metadata": {},
   "outputs": [
    {
     "data": {
      "text/html": [
       "<div>\n",
       "<style scoped>\n",
       "    .dataframe tbody tr th:only-of-type {\n",
       "        vertical-align: middle;\n",
       "    }\n",
       "\n",
       "    .dataframe tbody tr th {\n",
       "        vertical-align: top;\n",
       "    }\n",
       "\n",
       "    .dataframe thead th {\n",
       "        text-align: right;\n",
       "    }\n",
       "</style>\n",
       "<table border=\"1\" class=\"dataframe\">\n",
       "  <thead>\n",
       "    <tr style=\"text-align: right;\">\n",
       "      <th></th>\n",
       "      <th>Activity Period</th>\n",
       "      <th>Activity Period Start Date</th>\n",
       "      <th>Operating Airline</th>\n",
       "      <th>Operating Airline IATA Code</th>\n",
       "      <th>Published Airline</th>\n",
       "      <th>Published Airline IATA Code</th>\n",
       "      <th>GEO Summary</th>\n",
       "      <th>GEO Region</th>\n",
       "      <th>Activity Type Code</th>\n",
       "      <th>Price Category Code</th>\n",
       "      <th>Terminal</th>\n",
       "      <th>Boarding Area</th>\n",
       "      <th>Passenger Count</th>\n",
       "      <th>data_as_of</th>\n",
       "      <th>data_loaded_at</th>\n",
       "    </tr>\n",
       "  </thead>\n",
       "  <tbody>\n",
       "    <tr>\n",
       "      <th>0</th>\n",
       "      <td>199907</td>\n",
       "      <td>1999/07/01</td>\n",
       "      <td>ATA Airlines</td>\n",
       "      <td>TZ</td>\n",
       "      <td>ATA Airlines</td>\n",
       "      <td>TZ</td>\n",
       "      <td>Domestic</td>\n",
       "      <td>US</td>\n",
       "      <td>Deplaned</td>\n",
       "      <td>Low Fare</td>\n",
       "      <td>Terminal 1</td>\n",
       "      <td>B</td>\n",
       "      <td>31432</td>\n",
       "      <td>2024/06/20 01:00:26 PM</td>\n",
       "      <td>2024/07/22 03:01:47 PM</td>\n",
       "    </tr>\n",
       "    <tr>\n",
       "      <th>1</th>\n",
       "      <td>199907</td>\n",
       "      <td>1999/07/01</td>\n",
       "      <td>ATA Airlines</td>\n",
       "      <td>TZ</td>\n",
       "      <td>ATA Airlines</td>\n",
       "      <td>TZ</td>\n",
       "      <td>Domestic</td>\n",
       "      <td>US</td>\n",
       "      <td>Enplaned</td>\n",
       "      <td>Low Fare</td>\n",
       "      <td>Terminal 1</td>\n",
       "      <td>B</td>\n",
       "      <td>31353</td>\n",
       "      <td>2024/06/20 01:00:26 PM</td>\n",
       "      <td>2024/07/22 03:01:47 PM</td>\n",
       "    </tr>\n",
       "    <tr>\n",
       "      <th>2</th>\n",
       "      <td>199907</td>\n",
       "      <td>1999/07/01</td>\n",
       "      <td>ATA Airlines</td>\n",
       "      <td>TZ</td>\n",
       "      <td>ATA Airlines</td>\n",
       "      <td>TZ</td>\n",
       "      <td>Domestic</td>\n",
       "      <td>US</td>\n",
       "      <td>Thru / Transit</td>\n",
       "      <td>Low Fare</td>\n",
       "      <td>Terminal 1</td>\n",
       "      <td>B</td>\n",
       "      <td>2518</td>\n",
       "      <td>2024/06/20 01:00:26 PM</td>\n",
       "      <td>2024/07/22 03:01:47 PM</td>\n",
       "    </tr>\n",
       "    <tr>\n",
       "      <th>3</th>\n",
       "      <td>199907</td>\n",
       "      <td>1999/07/01</td>\n",
       "      <td>Aeroflot Russian International Airlines</td>\n",
       "      <td>NaN</td>\n",
       "      <td>Aeroflot Russian International Airlines</td>\n",
       "      <td>NaN</td>\n",
       "      <td>International</td>\n",
       "      <td>Europe</td>\n",
       "      <td>Deplaned</td>\n",
       "      <td>Other</td>\n",
       "      <td>Terminal 2</td>\n",
       "      <td>D</td>\n",
       "      <td>1324</td>\n",
       "      <td>2024/06/20 01:00:26 PM</td>\n",
       "      <td>2024/07/22 03:01:47 PM</td>\n",
       "    </tr>\n",
       "    <tr>\n",
       "      <th>4</th>\n",
       "      <td>199907</td>\n",
       "      <td>1999/07/01</td>\n",
       "      <td>Aeroflot Russian International Airlines</td>\n",
       "      <td>NaN</td>\n",
       "      <td>Aeroflot Russian International Airlines</td>\n",
       "      <td>NaN</td>\n",
       "      <td>International</td>\n",
       "      <td>Europe</td>\n",
       "      <td>Enplaned</td>\n",
       "      <td>Other</td>\n",
       "      <td>Terminal 2</td>\n",
       "      <td>D</td>\n",
       "      <td>1198</td>\n",
       "      <td>2024/06/20 01:00:26 PM</td>\n",
       "      <td>2024/07/22 03:01:47 PM</td>\n",
       "    </tr>\n",
       "  </tbody>\n",
       "</table>\n",
       "</div>"
      ],
      "text/plain": [
       "   Activity Period Activity Period Start Date  \\\n",
       "0           199907                 1999/07/01   \n",
       "1           199907                 1999/07/01   \n",
       "2           199907                 1999/07/01   \n",
       "3           199907                 1999/07/01   \n",
       "4           199907                 1999/07/01   \n",
       "\n",
       "                         Operating Airline Operating Airline IATA Code  \\\n",
       "0                             ATA Airlines                          TZ   \n",
       "1                             ATA Airlines                          TZ   \n",
       "2                             ATA Airlines                          TZ   \n",
       "3  Aeroflot Russian International Airlines                         NaN   \n",
       "4  Aeroflot Russian International Airlines                         NaN   \n",
       "\n",
       "                         Published Airline Published Airline IATA Code  \\\n",
       "0                             ATA Airlines                          TZ   \n",
       "1                             ATA Airlines                          TZ   \n",
       "2                             ATA Airlines                          TZ   \n",
       "3  Aeroflot Russian International Airlines                         NaN   \n",
       "4  Aeroflot Russian International Airlines                         NaN   \n",
       "\n",
       "     GEO Summary GEO Region Activity Type Code Price Category Code  \\\n",
       "0       Domestic         US           Deplaned            Low Fare   \n",
       "1       Domestic         US           Enplaned            Low Fare   \n",
       "2       Domestic         US     Thru / Transit            Low Fare   \n",
       "3  International     Europe           Deplaned               Other   \n",
       "4  International     Europe           Enplaned               Other   \n",
       "\n",
       "     Terminal Boarding Area  Passenger Count              data_as_of  \\\n",
       "0  Terminal 1             B            31432  2024/06/20 01:00:26 PM   \n",
       "1  Terminal 1             B            31353  2024/06/20 01:00:26 PM   \n",
       "2  Terminal 1             B             2518  2024/06/20 01:00:26 PM   \n",
       "3  Terminal 2             D             1324  2024/06/20 01:00:26 PM   \n",
       "4  Terminal 2             D             1198  2024/06/20 01:00:26 PM   \n",
       "\n",
       "           data_loaded_at  \n",
       "0  2024/07/22 03:01:47 PM  \n",
       "1  2024/07/22 03:01:47 PM  \n",
       "2  2024/07/22 03:01:47 PM  \n",
       "3  2024/07/22 03:01:47 PM  \n",
       "4  2024/07/22 03:01:47 PM  "
      ]
     },
     "execution_count": 5,
     "metadata": {},
     "output_type": "execute_result"
    }
   ],
   "source": [
    "data.head()"
   ]
  },
  {
   "cell_type": "markdown",
   "metadata": {},
   "source": [
    "#### Right away we can see some null values in our dataset.\n",
    "#### These will be fixed by manipulating the dataset via python.\n",
    "#### This can be cleaned via excel to begin with, but for our purposes, I will do it all on python."
   ]
  },
  {
   "cell_type": "markdown",
   "metadata": {},
   "source": [
    "## Data Cleaning"
   ]
  },
  {
   "cell_type": "markdown",
   "metadata": {},
   "source": [
    "#### We will start with viewing null values, the statistics, and the object type."
   ]
  },
  {
   "cell_type": "code",
   "execution_count": 9,
   "metadata": {},
   "outputs": [
    {
     "data": {
      "text/plain": [
       "Activity Period                  0\n",
       "Activity Period Start Date       0\n",
       "Operating Airline                0\n",
       "Operating Airline IATA Code    316\n",
       "Published Airline                0\n",
       "Published Airline IATA Code    316\n",
       "GEO Summary                      0\n",
       "GEO Region                       0\n",
       "Activity Type Code               0\n",
       "Price Category Code              0\n",
       "Terminal                         0\n",
       "Boarding Area                    0\n",
       "Passenger Count                  0\n",
       "data_as_of                       0\n",
       "data_loaded_at                   0\n",
       "dtype: int64"
      ]
     },
     "execution_count": 9,
     "metadata": {},
     "output_type": "execute_result"
    }
   ],
   "source": [
    "data.isnull().sum()"
   ]
  },
  {
   "cell_type": "code",
   "execution_count": 10,
   "metadata": {},
   "outputs": [
    {
     "data": {
      "text/html": [
       "<div>\n",
       "<style scoped>\n",
       "    .dataframe tbody tr th:only-of-type {\n",
       "        vertical-align: middle;\n",
       "    }\n",
       "\n",
       "    .dataframe tbody tr th {\n",
       "        vertical-align: top;\n",
       "    }\n",
       "\n",
       "    .dataframe thead th {\n",
       "        text-align: right;\n",
       "    }\n",
       "</style>\n",
       "<table border=\"1\" class=\"dataframe\">\n",
       "  <thead>\n",
       "    <tr style=\"text-align: right;\">\n",
       "      <th></th>\n",
       "      <th>Activity Period</th>\n",
       "      <th>Passenger Count</th>\n",
       "    </tr>\n",
       "  </thead>\n",
       "  <tbody>\n",
       "    <tr>\n",
       "      <th>count</th>\n",
       "      <td>36165.000000</td>\n",
       "      <td>36165.000000</td>\n",
       "    </tr>\n",
       "    <tr>\n",
       "      <th>mean</th>\n",
       "      <td>201206.636416</td>\n",
       "      <td>27894.875128</td>\n",
       "    </tr>\n",
       "    <tr>\n",
       "      <th>std</th>\n",
       "      <td>724.614553</td>\n",
       "      <td>62489.937525</td>\n",
       "    </tr>\n",
       "    <tr>\n",
       "      <th>min</th>\n",
       "      <td>199907.000000</td>\n",
       "      <td>0.000000</td>\n",
       "    </tr>\n",
       "    <tr>\n",
       "      <th>25%</th>\n",
       "      <td>200605.000000</td>\n",
       "      <td>4401.000000</td>\n",
       "    </tr>\n",
       "    <tr>\n",
       "      <th>50%</th>\n",
       "      <td>201210.000000</td>\n",
       "      <td>8620.000000</td>\n",
       "    </tr>\n",
       "    <tr>\n",
       "      <th>75%</th>\n",
       "      <td>201809.000000</td>\n",
       "      <td>19841.000000</td>\n",
       "    </tr>\n",
       "    <tr>\n",
       "      <th>max</th>\n",
       "      <td>202405.000000</td>\n",
       "      <td>856501.000000</td>\n",
       "    </tr>\n",
       "  </tbody>\n",
       "</table>\n",
       "</div>"
      ],
      "text/plain": [
       "       Activity Period  Passenger Count\n",
       "count     36165.000000     36165.000000\n",
       "mean     201206.636416     27894.875128\n",
       "std         724.614553     62489.937525\n",
       "min      199907.000000         0.000000\n",
       "25%      200605.000000      4401.000000\n",
       "50%      201210.000000      8620.000000\n",
       "75%      201809.000000     19841.000000\n",
       "max      202405.000000    856501.000000"
      ]
     },
     "execution_count": 10,
     "metadata": {},
     "output_type": "execute_result"
    }
   ],
   "source": [
    "data.describe()"
   ]
  },
  {
   "cell_type": "code",
   "execution_count": 11,
   "metadata": {},
   "outputs": [
    {
     "name": "stdout",
     "output_type": "stream",
     "text": [
      "<class 'pandas.core.frame.DataFrame'>\n",
      "RangeIndex: 36165 entries, 0 to 36164\n",
      "Data columns (total 15 columns):\n",
      " #   Column                       Non-Null Count  Dtype \n",
      "---  ------                       --------------  ----- \n",
      " 0   Activity Period              36165 non-null  int64 \n",
      " 1   Activity Period Start Date   36165 non-null  object\n",
      " 2   Operating Airline            36165 non-null  object\n",
      " 3   Operating Airline IATA Code  35849 non-null  object\n",
      " 4   Published Airline            36165 non-null  object\n",
      " 5   Published Airline IATA Code  35849 non-null  object\n",
      " 6   GEO Summary                  36165 non-null  object\n",
      " 7   GEO Region                   36165 non-null  object\n",
      " 8   Activity Type Code           36165 non-null  object\n",
      " 9   Price Category Code          36165 non-null  object\n",
      " 10  Terminal                     36165 non-null  object\n",
      " 11  Boarding Area                36165 non-null  object\n",
      " 12  Passenger Count              36165 non-null  int64 \n",
      " 13  data_as_of                   36165 non-null  object\n",
      " 14  data_loaded_at               36165 non-null  object\n",
      "dtypes: int64(2), object(13)\n",
      "memory usage: 4.1+ MB\n"
     ]
    }
   ],
   "source": [
    "data.info()"
   ]
  },
  {
   "cell_type": "markdown",
   "metadata": {},
   "source": [
    "#### Majority of our data are 'objects.' Intuitively, we can estimate that converting object to int for some columns will be usless. "
   ]
  },
  {
   "cell_type": "markdown",
   "metadata": {},
   "source": [
    "#### I would like to view null values by Operating Airline, this would help us fill the missing values quicker."
   ]
  },
  {
   "cell_type": "code",
   "execution_count": 23,
   "metadata": {},
   "outputs": [
    {
     "name": "stdout",
     "output_type": "stream",
     "text": [
      "['Aeroflot Russian International Airlines' 'China Eastern Airlines, Inc'\n",
      " 'Sobelair Airlines' 'Sports Jet' 'North American Airlines' 'Sports Hawk'\n",
      " 'Allegro Airlines' 'DB Air' 'Boeing Company' 'Servisair'\n",
      " 'Pacific Aviation' 'Swissport USA' 'Trego Dugan Aviation'\n",
      " 'Air Italy S.P.A' 'El Al Israel Airlines LTD.'\n",
      " 'Norwegian Air Shuttle ASA' 'Samsic Airport America, LLC']\n"
     ]
    }
   ],
   "source": [
    "# Filter rows where Operating value is null \n",
    "\n",
    "null_values_operating = data[data['Operating Airline IATA Code'].isnull()]\n",
    "null_count_by_operating = null_values['Operating Airline'].unique()\n",
    "print(null_count_by_operating)"
   ]
  },
  {
   "cell_type": "code",
   "execution_count": 24,
   "metadata": {},
   "outputs": [
    {
     "name": "stdout",
     "output_type": "stream",
     "text": [
      "['Aeroflot Russian International Airlines' 'China Eastern Airlines, Inc'\n",
      " 'Sobelair Airlines' 'Sports Jet' 'North American Airlines' 'Sports Hawk'\n",
      " 'Allegro Airlines' 'DB Air' 'Boeing Company' 'Servisair'\n",
      " 'Pacific Aviation' 'Swissport USA' 'Trego Dugan Aviation'\n",
      " 'Air Italy S.P.A' 'El Al Israel Airlines LTD.'\n",
      " 'Norwegian Air Shuttle ASA' 'Samsic Airport America, LLC']\n"
     ]
    }
   ],
   "source": [
    "# Do the same for 'Published Airline'\n",
    "\n",
    "null_values_published = data[data['Published Airline IATA Code'].isnull()]\n",
    "null_count_by_published = null_values['Published Airline'].unique()\n",
    "print(null_count_by_published)"
   ]
  },
  {
   "cell_type": "markdown",
   "metadata": {},
   "source": [
    "#### Before we add values to these null rows, I also want to see if published IATA airline code and Operating Airline IATA code are the same, if so, we will drop one of them as it is not needed. "
   ]
  },
  {
   "cell_type": "code",
   "execution_count": 22,
   "metadata": {},
   "outputs": [
    {
     "name": "stdout",
     "output_type": "stream",
     "text": [
      "Unique columns\n"
     ]
    }
   ],
   "source": [
    "same_values = data['Published Airline IATA Code'].equals(data['Operating Airline IATA Code'])\n",
    "\n",
    "if same_values:\n",
    "    print('Values are the same')\n",
    "else:\n",
    "    print('Unique columns')"
   ]
  },
  {
   "cell_type": "markdown",
   "metadata": {},
   "source": [
    "#### We know that Published Airline Code and Operating Airline Code are differentiated as indicated on the source. However, both values were missing the same amount so it is good to verify. Let's fill up the IATA code for airlines with null values. "
   ]
  }
 ],
 "metadata": {
  "kernelspec": {
   "display_name": "Python 3",
   "language": "python",
   "name": "python3"
  },
  "language_info": {
   "codemirror_mode": {
    "name": "ipython",
    "version": 3
   },
   "file_extension": ".py",
   "mimetype": "text/x-python",
   "name": "python",
   "nbconvert_exporter": "python",
   "pygments_lexer": "ipython3",
   "version": "3.12.2"
  }
 },
 "nbformat": 4,
 "nbformat_minor": 2
}
